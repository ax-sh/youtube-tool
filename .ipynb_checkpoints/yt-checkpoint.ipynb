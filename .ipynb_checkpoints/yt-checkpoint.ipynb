{
 "cells": [
  {
   "cell_type": "code",
   "execution_count": 1,
   "id": "49290252-73b2-4546-8aa3-55dcfb88ddac",
   "metadata": {},
   "outputs": [],
   "source": [
    "import re\n",
    "from yt_dlp.extractor.youtube import YoutubePlaylistIE\n",
    "\n",
    "class CustomYoutubePlaylistIE(YoutubePlaylistIE):\n",
    "    _VALID_URL = r'https?://(?:www\\.)?youtube\\.com/playlist\\?list=(?P<id>[a-zA-Z0-9_-]+)'\n",
    "\n",
    "    def _real_extract(self, url):\n",
    "        # Call the parent method to get the playlist data\n",
    "        playlist_data = super()._real_extract(url)\n",
    "\n",
    "        # Customize the playlist extraction process\n",
    "        # For example, filter out videos that do not have a specific keyword in the title\n",
    "        keyword = \"tutorial\"  # Replace this with your desired keyword\n",
    "        filtered_entries = []\n",
    "\n",
    "        for entry in playlist_data.get('entries', []):\n",
    "            if keyword.lower() in entry.get('title', '').lower():\n",
    "                filtered_entries.append(entry)\n",
    "\n",
    "        # Return the modified playlist info\n",
    "        return {\n",
    "            '_type': 'playlist',\n",
    "            'id': playlist_data.get('id'),\n",
    "            'title': f\"{playlist_data.get('title')} (Filtered by '{keyword}')\",\n",
    "            'entries': filtered_entries,\n",
    "        }\n"
   ]
  },
  {
   "cell_type": "code",
   "execution_count": null,
   "id": "846bfecb-f9e4-4309-ab34-801535160b15",
   "metadata": {},
   "outputs": [],
   "source": []
  }
 ],
 "metadata": {
  "kernelspec": {
   "display_name": "Python 3 (ipykernel)",
   "language": "python",
   "name": "python3"
  },
  "language_info": {
   "codemirror_mode": {
    "name": "ipython",
    "version": 3
   },
   "file_extension": ".py",
   "mimetype": "text/x-python",
   "name": "python",
   "nbconvert_exporter": "python",
   "pygments_lexer": "ipython3",
   "version": "3.11.9"
  }
 },
 "nbformat": 4,
 "nbformat_minor": 5
}
